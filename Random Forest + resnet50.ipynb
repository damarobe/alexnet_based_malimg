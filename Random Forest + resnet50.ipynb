{
 "cells": [
  {
   "cell_type": "markdown",
   "id": "08300485",
   "metadata": {},
   "source": [
    "# This .ipynb file the series of the term project\n",
    "# This is where features extracted from the resnet50 model are used to train an ML algorithm { Random Forest}\n",
    "\n",
    "\n",
    "## This note book assumes that there is a directory named 'features/resnet50' \n",
    "\n",
    "\n",
    "## ....In each of the there are 25 Folders belonging to the 25 malware families\n",
    "## .........in each folder there are 100 tensor (pt) files corresponding to 100 images\n",
    "## ..............why 100?...because of lack of resources to compute for all of them\n",
    "## ..............100 does get the point across"
   ]
  },
  {
   "cell_type": "markdown",
   "id": "9dbc7fde",
   "metadata": {},
   "source": [
    "# --------------------------------------------------------------------------------------------------------"
   ]
  },
  {
   "cell_type": "markdown",
   "id": "43bb8da0",
   "metadata": {},
   "source": [
    "# Importing dependencies"
   ]
  },
  {
   "cell_type": "code",
   "execution_count": 1,
   "id": "6effbc96",
   "metadata": {},
   "outputs": [],
   "source": [
    "import matplotlib.pyplot as plt\n",
    "import numpy as np\n",
    "import os\n",
    "from sklearn.ensemble import RandomForestClassifier\n",
    "from sklearn.model_selection import train_test_split\n",
    "from sklearn import preprocessing\n",
    "from sklearn import metrics\n",
    "import pickle\n",
    "from sklearn.metrics import confusion_matrix\n",
    "from sklearn.datasets import make_classification\n",
    "import torch\n",
    "from tqdm import tqdm"
   ]
  },
  {
   "cell_type": "markdown",
   "id": "7a83b132",
   "metadata": {},
   "source": [
    "# Dataset path ... assumes there is a directory named 'features/resnet50'¶"
   ]
  },
  {
   "cell_type": "code",
   "execution_count": 2,
   "id": "3ff59193",
   "metadata": {},
   "outputs": [],
   "source": [
    "dataset = 'features/'\n",
    "model_names='resnet50/'\n",
    "path=dataset+model_names"
   ]
  },
  {
   "cell_type": "code",
   "execution_count": 3,
   "id": "091da994",
   "metadata": {},
   "outputs": [],
   "source": [
    "# THIS FUNCTION TAKES A PATH TO THE FOLDER THAT CONTIANS THE EXTRACTED FEATURES\n",
    "\n",
    "x=[]\n",
    "y=[]\n",
    "\n",
    "for (root,dirs,files) in  os.walk(path, topdown=True):\n",
    "    dirname = root.split(os.path.sep)[-1]\n",
    "    if len(files)==0:\n",
    "        continue\n",
    "    for i in files:\n",
    "        if i[-2:] != 'pt':\n",
    "            here=here\n",
    "            continue\n",
    "        x.append(torch.load(root+'/'+i))\n",
    "        y.append(dirname)"
   ]
  },
  {
   "cell_type": "code",
   "execution_count": null,
   "id": "94ed9990",
   "metadata": {},
   "outputs": [],
   "source": []
  },
  {
   "cell_type": "markdown",
   "id": "b42b4d4c",
   "metadata": {},
   "source": [
    "# ML  training by Random Forest"
   ]
  },
  {
   "cell_type": "code",
   "execution_count": 4,
   "id": "27f735fa",
   "metadata": {},
   "outputs": [],
   "source": [
    "# encoding the class names\n",
    "le = preprocessing.LabelEncoder()\n",
    "le.fit(y)\n",
    "labels_encoded = le.transform(y)\n",
    "\n",
    "y_train = labels_encoded\n",
    "\n",
    "x_np = [i.detach().numpy()[0] for i in x]\n",
    "\n",
    "\n",
    "#     x_np=np.array(x_np)\n",
    "\n",
    "RandomForest_model = RandomForestClassifier(n_estimators = 50, random_state = 42)\n",
    "\n",
    "X_train, X_test, Y_train, Y_test = train_test_split(x_np, y_train, test_size=0.2)\n",
    "\n",
    "\n",
    "# Train the model on training data\n",
    "RandomForest_model.fit(X_train, Y_train)\n",
    "\n",
    "pred = RandomForest_model.predict(X_test)\n",
    "accuracy=metrics.accuracy_score(Y_test, pred)\n",
    "\n",
    "#     pickle.dump(RF_model, open('tryRF', 'wb'))\n",
    "#     loaded_model = pickle.load(open('tryRF', 'rb'))\n",
    "#     pred=loaded_model.predict(X_test)\n"
   ]
  },
  {
   "cell_type": "code",
   "execution_count": 5,
   "id": "528d2392",
   "metadata": {},
   "outputs": [
    {
     "data": {
      "text/plain": [
       "0.956"
      ]
     },
     "execution_count": 5,
     "metadata": {},
     "output_type": "execute_result"
    }
   ],
   "source": [
    "accuracy"
   ]
  },
  {
   "cell_type": "code",
   "execution_count": null,
   "id": "08917527",
   "metadata": {},
   "outputs": [],
   "source": []
  }
 ],
 "metadata": {
  "kernelspec": {
   "display_name": "Python 3 (ipykernel)",
   "language": "python",
   "name": "python3"
  },
  "language_info": {
   "codemirror_mode": {
    "name": "ipython",
    "version": 3
   },
   "file_extension": ".py",
   "mimetype": "text/x-python",
   "name": "python",
   "nbconvert_exporter": "python",
   "pygments_lexer": "ipython3",
   "version": "3.8.10"
  }
 },
 "nbformat": 4,
 "nbformat_minor": 5
}
