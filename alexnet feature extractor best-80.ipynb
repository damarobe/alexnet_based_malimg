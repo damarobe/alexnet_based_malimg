{
 "cells": [
  {
   "cell_type": "markdown",
   "id": "c5f123c0",
   "metadata": {},
   "source": [
    "# This is an all in one safe result...the where I tried alexnet with only 80 sample points .... which is the minimum number samples each has because there is one family of malware which has only 80 samples...\n",
    "\n",
    "# this is to ensure that the augumentation doesnt mess with the Random Forest ... which is the case in some places I saw over the internet..\n",
    "\n",
    "# I did this to try the method without any augumentation\n",
    "\n",
    "\n",
    "## this notebook includes both feature extraction and classification\n",
    "\n",
    "## it will be used other places\n",
    "\n"
   ]
  },
  {
   "cell_type": "markdown",
   "id": "3587f0d0",
   "metadata": {},
   "source": [
    "## link to original dataset https://mega.nz/file/ZN8HDQoI#Shh3gwXYJoB_1HNBoJ1LeQdhe-JZ_2zJjn62MXhObgk"
   ]
  },
  {
   "cell_type": "code",
   "execution_count": 12,
   "id": "641639e3",
   "metadata": {},
   "outputs": [],
   "source": [
    "from torchvision import models\n",
    "import torch\n",
    "from PIL import Image\n",
    "from skimage import io, transform\n",
    "import matplotlib.pyplot as plt\n",
    "import numpy as np\n",
    "from torchvision import transforms\n",
    "import os\n",
    "from sklearn import metrics\n"
   ]
  },
  {
   "cell_type": "markdown",
   "id": "cf050b34",
   "metadata": {},
   "source": [
    "# Load alexnet..from the internet..but for others I locally save models"
   ]
  },
  {
   "cell_type": "code",
   "execution_count": 21,
   "id": "89aa3654",
   "metadata": {},
   "outputs": [],
   "source": [
    "alexnet = models.alexnet(pretrained=True) # This will download the weights for the network first time it is run!"
   ]
  },
  {
   "cell_type": "code",
   "execution_count": 22,
   "id": "71c2d740",
   "metadata": {},
   "outputs": [],
   "source": [
    "extractor=torch.nn.Sequential(alexnet.features, torch.nn.Flatten())"
   ]
  },
  {
   "cell_type": "markdown",
   "id": "8a46c0a8",
   "metadata": {},
   "source": [
    "# my local dataset path to original"
   ]
  },
  {
   "cell_type": "code",
   "execution_count": null,
   "id": "c3325ef1",
   "metadata": {},
   "outputs": [],
   "source": [
    "dataset='../malimg_paper_dataset_imgs'"
   ]
  },
  {
   "cell_type": "code",
   "execution_count": null,
   "id": "822953b8",
   "metadata": {},
   "outputs": [],
   "source": [
    "transform = transforms.Compose([        # Defining a variable transforms\n",
    " transforms.Resize(224),                # Resize the image to 256×256 pixels\n",
    " transforms.ToTensor(),                 # Convert the image to PyTorch Tensor data type\n",
    " transforms.Normalize(                  # Normalize the image\n",
    " mean=[0.485, 0.456, 0.406],            # Mean and std of image as also used when training the network\n",
    " std=[0.229, 0.224, 0.225]      \n",
    " )])"
   ]
  },
  {
   "cell_type": "markdown",
   "id": "4145aa5b",
   "metadata": {},
   "source": [
    "# my local dataset where I intend to save the extracted features"
   ]
  },
  {
   "cell_type": "markdown",
   "id": "858fcc75",
   "metadata": {},
   "source": [
    "# Link to this dataset https://mega.nz/file/AEVngSoY#Rve-XEpgY_FRUX3xnDh7IixNZM_KLL4MWRe7UyIcoUw"
   ]
  },
  {
   "cell_type": "code",
   "execution_count": null,
   "id": "73e96cab",
   "metadata": {},
   "outputs": [],
   "source": [
    "target='./features_only_80'"
   ]
  },
  {
   "cell_type": "code",
   "execution_count": null,
   "id": "70be0178",
   "metadata": {},
   "outputs": [],
   "source": [
    "os.mkdir(target)"
   ]
  },
  {
   "cell_type": "code",
   "execution_count": null,
   "id": "cf831480",
   "metadata": {},
   "outputs": [],
   "source": [
    "rounds=0\n",
    "for (root,dirs,files) in  os.walk(dataset, topdown=True):\n",
    "    \n",
    "    if len(files)== 0:\n",
    "        continue\n",
    "\n",
    "    dirname = root.split(os.path.sep)[-1]\n",
    "    \n",
    "    print( \"doing for ..  \", dirname,\" \", end='')\n",
    "    \n",
    "    counter+=1\n",
    "    counter=0\n",
    "    os.mkdir(target+'/'+dirname)\n",
    "    for i in files[:80]:                        \n",
    "        img=Image.open(root+'/'+i)\n",
    "        img=img.resize((224,224))        \n",
    "        \n",
    "        # channel\n",
    "        img=np.stack((img,)*3, axis=-1) # stack  to create channels\n",
    "        img=Image.fromarray(img)\n",
    "        \n",
    "        img=transform(img) # transform to tensor\n",
    "        img= torch.unsqueeze(img,0) \n",
    "        feature=extractor(img) \n",
    "        torch.save(feature, target+'/'+dirname+'/'+str(counter)+i+'.pt')\n",
    "        \n",
    "    print(\"done for \", dirname)\n",
    "    rounds+=1\n",
    "    \n",
    "\n",
    "\n",
    "    \n"
   ]
  },
  {
   "cell_type": "markdown",
   "id": "9d92a997",
   "metadata": {},
   "source": [
    "# classification by Random Forest"
   ]
  },
  {
   "cell_type": "code",
   "execution_count": 13,
   "id": "0310c414",
   "metadata": {},
   "outputs": [],
   "source": [
    "from torch.utils.data import DataLoader,Dataset\n",
    "from sklearn import preprocessing\n",
    "from sklearn.ensemble import RandomForestClassifier\n",
    "from sklearn.model_selection import train_test_split\n",
    "import skimage.io as io\n",
    "from torchsummary import summary\n",
    "from tqdm import tqdm"
   ]
  },
  {
   "cell_type": "code",
   "execution_count": 14,
   "id": "7b58e17b",
   "metadata": {},
   "outputs": [],
   "source": [
    "x=[]\n",
    "y=[]\n",
    "\n",
    "for (root,dirs,files) in  os.walk('./features80', topdown=True):\n",
    "    \n",
    "    if len(files)== 0:\n",
    "        continue\n",
    "\n",
    "    dirname = root.split(os.path.sep)[-1]\n",
    "#     print(dirname)\n",
    "    for i in files:\n",
    "#         tensor_=torch.load(root+'/'+i)\n",
    "        x.append(torch.load(root+'/'+i))\n",
    "        y.append(dirname)\n",
    "        \n",
    "    "
   ]
  },
  {
   "cell_type": "code",
   "execution_count": 15,
   "id": "94a2970f",
   "metadata": {},
   "outputs": [],
   "source": [
    "\n",
    "le = preprocessing.LabelEncoder()\n",
    "le.fit(y)\n",
    "labels_encoded = le.transform(y)\n",
    "y_train = labels_encoded\n",
    "x_np = [i.detach().numpy()[0] for i in x]"
   ]
  },
  {
   "cell_type": "code",
   "execution_count": 16,
   "id": "cbb806b7",
   "metadata": {},
   "outputs": [],
   "source": [
    "RF_model = RandomForestClassifier(n_estimators = 50, random_state = 42)"
   ]
  },
  {
   "cell_type": "code",
   "execution_count": 17,
   "id": "2076bbb6",
   "metadata": {},
   "outputs": [],
   "source": [
    "X_train, X_test, Y_train, Y_test = train_test_split(x_np, y_train, test_size=0.2)"
   ]
  },
  {
   "cell_type": "code",
   "execution_count": 18,
   "id": "92c90518",
   "metadata": {},
   "outputs": [
    {
     "data": {
      "text/plain": [
       "RandomForestClassifier(n_estimators=50, random_state=42)"
      ]
     },
     "execution_count": 18,
     "metadata": {},
     "output_type": "execute_result"
    }
   ],
   "source": [
    "# Train the model on training data\n",
    "RF_model.fit(X_train, Y_train)\n"
   ]
  },
  {
   "cell_type": "code",
   "execution_count": 19,
   "id": "0f9f1c41",
   "metadata": {},
   "outputs": [],
   "source": [
    "pred = RF_model.predict(X_test)"
   ]
  },
  {
   "cell_type": "code",
   "execution_count": 20,
   "id": "0af3670e",
   "metadata": {},
   "outputs": [
    {
     "name": "stdout",
     "output_type": "stream",
     "text": [
      "Accuracy =  0.945\n"
     ]
    }
   ],
   "source": [
    "print (\"Accuracy = \", metrics.accuracy_score(Y_test, pred))"
   ]
  },
  {
   "cell_type": "code",
   "execution_count": null,
   "id": "867ef172",
   "metadata": {},
   "outputs": [],
   "source": []
  },
  {
   "cell_type": "code",
   "execution_count": 28,
   "id": "03e3b9cc",
   "metadata": {},
   "outputs": [
    {
     "data": {
      "text/plain": [
       "<AxesSubplot:>"
      ]
     },
     "execution_count": 28,
     "metadata": {},
     "output_type": "execute_result"
    },
    {
     "data": {
      "image/png": "[encoded data removed]",
      "text/plain": [
       "<Figure size 432x288 with 2 Axes>"
      ]
     },
     "metadata": {
      "needs_background": "light"
     },
     "output_type": "display_data"
    }
   ],
   "source": [
    "from sklearn.metrics import confusion_matrix\n",
    "import seaborn as sns\n",
    "\n",
    "cm = confusion_matrix(Y_test, pred)\n",
    "#print(cm)\n",
    "sns.heatmap(cm, annot=True )"
   ]
  },
  {
   "cell_type": "code",
   "execution_count": null,
   "id": "0afc878f",
   "metadata": {},
   "outputs": [],
   "source": []
  }
 ],
 "metadata": {
  "kernelspec": {
   "display_name": "Python 3 (ipykernel)",
   "language": "python",
   "name": "python3"
  },
  "language_info": {
   "codemirror_mode": {
    "name": "ipython",
    "version": 3
   },
   "file_extension": ".py",
   "mimetype": "text/x-python",
   "name": "python",
   "nbconvert_exporter": "python",
   "pygments_lexer": "ipython3",
   "version": "3.8.10"
  }
 },
 "nbformat": 4,
 "nbformat_minor": 5
}
