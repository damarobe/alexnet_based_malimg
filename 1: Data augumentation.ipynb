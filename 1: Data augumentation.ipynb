{
 "cells": [
  {
   "cell_type": "markdown",
   "id": "e0fdd336",
   "metadata": {},
   "source": [
    "## This should be the first to consider as it matches the pre-processing step of the paper\n",
    "\n",
    "## it creates a dataset of 1000 images each from the raw dataset ...\n",
    "## include agumentation and transformations\n",
    "\n",
    "## it assumes the_dataset is the complete dataset \n",
    "\n",
    "## link to the output dataset https://drive.google.com/drive/folders/1-k1ABruNcYyBFFjg_g74jAXei6Q8_ray?usp=sharing"
   ]
  },
  {
   "cell_type": "markdown",
   "id": "bba3b9f4",
   "metadata": {},
   "source": [
    "## link to the original dataset  https://www.dropbox.com/s/ep8qjakfwh1rzk4/malimg_dataset.zip?dl=0"
   ]
  },
  {
   "cell_type": "code",
   "execution_count": 3,
   "id": "2520d09e",
   "metadata": {},
   "outputs": [],
   "source": [
    "from PIL import Image\n",
    "from torchvision import models,datasets,transforms\n",
    "from torch.utils.data import DataLoader\n",
    "import os\n",
    "import numpy as np\n",
    "import torch"
   ]
  },
  {
   "cell_type": "code",
   "execution_count": 38,
   "id": "e4a271dc",
   "metadata": {},
   "outputs": [],
   "source": [
    "dataset='the_dataset'"
   ]
  },
  {
   "cell_type": "code",
   "execution_count": 17,
   "id": "6af1e8e2",
   "metadata": {},
   "outputs": [],
   "source": [
    "def agumented_images(img,number_of_agumented):  \n",
    "    list_of_images=[]\n",
    "    rate=.8\n",
    "    list_of_images.extend([img,transforms.RandomRotation(8)(img)  ])  \n",
    "    list_of_images.extend([transforms.RandomHorizontalFlip(.7)(i) for i in list_of_images])\n",
    "    list_of_images.extend([transforms.RandomVerticalFlip(.7)(i) for i in list_of_images])\n",
    "    list_of_images.extend([transforms.RandomCrop((int(i.size[1]*rate),int(i.size[0]*rate)))(i) for i in list_of_images])\n",
    "    \n",
    " \n",
    "    return list_of_images[:number_of_agumented]"
   ]
  },
  {
   "cell_type": "code",
   "execution_count": 20,
   "id": "8c71ed0f",
   "metadata": {},
   "outputs": [
    {
     "name": "stdout",
     "output_type": "stream",
     "text": [
      "Doing for  malimg_paper_dataset_imgs 1\n",
      "Doing for  malimg_paper_dataset_imgs/Malex.gen!J 2\n",
      "Doing for  malimg_paper_dataset_imgs/Dontovo.A 3\n",
      "Doing for  malimg_paper_dataset_imgs/Yuner.A 4\n",
      "Doing for  malimg_paper_dataset_imgs/Lolyda.AA1 5\n",
      "Doing for  malimg_paper_dataset_imgs/Skintrim.N 6\n",
      "Doing for  malimg_paper_dataset_imgs/VB.AT 7\n",
      "Doing for  malimg_paper_dataset_imgs/Lolyda.AA3 8\n",
      "Doing for  malimg_paper_dataset_imgs/Swizzor.gen!I 9\n",
      "Doing for  malimg_paper_dataset_imgs/Rbot!gen 10\n",
      "Doing for  malimg_paper_dataset_imgs/Agent.FYI 11\n",
      "Doing for  malimg_paper_dataset_imgs/Autorun.K 12\n",
      "Doing for  malimg_paper_dataset_imgs/Swizzor.gen!E 13\n",
      "Doing for  malimg_paper_dataset_imgs/Lolyda.AT 14\n",
      "Doing for  malimg_paper_dataset_imgs/Lolyda.AA2 15\n",
      "Doing for  malimg_paper_dataset_imgs/Wintrim.BX 16\n",
      "Doing for  malimg_paper_dataset_imgs/Instantaccess 17\n",
      "Doing for  malimg_paper_dataset_imgs/Fakerean 18\n",
      "Doing for  malimg_paper_dataset_imgs/Allaple.A 19\n",
      "Doing for  malimg_paper_dataset_imgs/Alueron.gen!J 20\n",
      "Doing for  malimg_paper_dataset_imgs/Dialplatform.B 21\n",
      "Doing for  malimg_paper_dataset_imgs/Adialer.C 22\n",
      "Doing for  malimg_paper_dataset_imgs/C2LOP.gen!g 23\n",
      "Doing for  malimg_paper_dataset_imgs/C2LOP.P 24\n",
      "Doing for  malimg_paper_dataset_imgs/Obfuscator.AD 25\n",
      "Doing for  malimg_paper_dataset_imgs/Allaple.L 26\n",
      " total cant  0\n"
     ]
    }
   ],
   "source": [
    "counter=0\n",
    "rounds=0\n",
    "for (root,dirs,files) in  os.walk(dataset, topdown=True):\n",
    "    rounds+=1\n",
    "    print(\"Doing for \", root, rounds)\n",
    "    number_of_files_here=len(files)    \n",
    "    if number_of_files_here== 0:\n",
    "        continue\n",
    "    \n",
    "    if number_of_files_here>1000: # is the data contains more than 1000 it trims it\n",
    "        for i in files[1000:]:\n",
    "            os.remove(root+'/'+i)\n",
    "        continue\n",
    "\n",
    "    size_each=int(1000/number_of_files_here) +1  # each files needs to be agumented this many times  \n",
    "\n",
    "    for i in files:                        \n",
    "        try:\n",
    "            img=Image.open(root+'/'+i)\n",
    "        except: \n",
    "            counter+=1\n",
    "            print(\"cant't for do\", i)\n",
    "            continue\n",
    "        \n",
    "        images=agumented_images(img,size_each)\n",
    "        \n",
    "        for ind,img in enumerate(images):\n",
    "               img.save(root+'/'+chr(48+ind)+'aug'+i)\n",
    "        if len(os.listdir(root))>1000:\n",
    "            break\n",
    "\n",
    "    \n",
    "print(\" total cant \", counter) "
   ]
  },
  {
   "cell_type": "code",
   "execution_count": null,
   "id": "1cc4ee2c",
   "metadata": {},
   "outputs": [
    {
     "name": "stdout",
     "output_type": "stream",
     "text": [
      "Doing folder  malimg_dataset/train/Autorun.K\n",
      " there is a lag of  373\n",
      " Each image needs  3\n"
     ]
    }
   ],
   "source": [
    "for (root,dirs,files) in os.walk(train_directory, topdown=True):\n",
    "    if len(files) == 0:\n",
    "        continue\n",
    "    if len(files) > 1500:\n",
    "        continue\n",
    "    \n",
    "    diff= 1500-len(files)\n",
    "\n",
    "    size_each=int(len(files)/diff)\n",
    "    print(\"Doing folder \", root)    \n",
    "    print(\" there is a lag of \", diff)\n",
    "    print(\" Each image needs \", size_each)\n",
    "    \n",
    "    for j in range(diff):\n",
    "        for i in files:\n",
    "            # in each folder\n",
    "            \n",
    "            try:\n",
    "                img=Image.open(root+'/'+i)\n",
    "                # get 5 images\n",
    "                images=agumented_images(img,size_each)\n",
    "            except:\n",
    "                continue\n",
    "            \n",
    "            # write in the folder\n",
    "            for ind,img in enumerate(images):\n",
    "                img.save(root+'/'+chr(48+ind)+'aug'+i)\n",
    "                \n",
    "                       \n",
    "            \n",
    "            \n",
    "            \n"
   ]
  }
 ],
 "metadata": {
  "kernelspec": {
   "display_name": "Python 3 (ipykernel)",
   "language": "python",
   "name": "python3"
  },
  "language_info": {
   "codemirror_mode": {
    "name": "ipython",
    "version": 3
   },
   "file_extension": ".py",
   "mimetype": "text/x-python",
   "name": "python",
   "nbconvert_exporter": "python",
   "pygments_lexer": "ipython3",
   "version": "3.8.10"
  }
 },
 "nbformat": 4,
 "nbformat_minor": 5
}
