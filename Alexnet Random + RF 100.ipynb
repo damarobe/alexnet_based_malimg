{
 "cells": [
  {
   "cell_type": "markdown",
   "id": "40b07cd0",
   "metadata": {},
   "source": [
    "# Main notebook .. this is where Alexnet + RF achieved 93% for 100 dataset\n",
    "\n",
    "## assumes there is dataset100"
   ]
  },
  {
   "cell_type": "markdown",
   "id": "d35546f4",
   "metadata": {},
   "source": [
    "#### link to dataset https://drive.google.com/drive/folders/11y5W6DafG2qXS97VCeDjudFl5WZh217N?usp=sharing"
   ]
  },
  {
   "cell_type": "code",
   "execution_count": 12,
   "id": "6effbc96",
   "metadata": {},
   "outputs": [],
   "source": [
    "from torchvision import models\n",
    "import torch\n",
    "from PIL import Image\n",
    "import matplotlib.pyplot as plt\n",
    "import numpy as np\n",
    "from torchvision import transforms\n",
    "import os\n",
    "import pandas as pd\n",
    "import torch.nn as nn\n",
    "import torch.optim as optim\n",
    "import time\n",
    "from torch.utils.data import DataLoader,Dataset\n",
    "from sklearn import preprocessing\n",
    "from sklearn.ensemble import RandomForestClassifier\n",
    "from sklearn.model_selection import train_test_split\n",
    "from sklearn import metrics\n"
   ]
  },
  {
   "cell_type": "code",
   "execution_count": 13,
   "id": "3ff59193",
   "metadata": {},
   "outputs": [],
   "source": [
    "dataset100pt = '/dataset100/train'\n"
   ]
  },
  {
   "cell_type": "code",
   "execution_count": 14,
   "id": "19e7b586",
   "metadata": {},
   "outputs": [],
   "source": [
    "classes=[i[:-3] for i in os.listdir(dataset100pt)]"
   ]
  },
  {
   "cell_type": "markdown",
   "id": "a4be2131",
   "metadata": {},
   "source": [
    "#"
   ]
  },
  {
   "cell_type": "code",
   "execution_count": 15,
   "id": "091da994",
   "metadata": {},
   "outputs": [],
   "source": [
    "x=[]\n",
    "y=[]\n",
    "for (root,dirs,files) in  os.walk(dataset100pt, topdown=True):\n",
    "    dirname = root.split(os.path.sep)[-1]\n",
    "    \n",
    "    if len(files)==0:\n",
    "        continue\n",
    "    for i in files:\n",
    "        if i[-3:] == 'png':\n",
    "            continue\n",
    "        tensors=torch.load(root+'/'+i) # laod data ... tensor data\n",
    "#         print(len(tensors))\n",
    "        for j in tensors:\n",
    "            x.append(j)\n",
    "            y.append(dirname)\n",
    "        \n",
    "        \n"
   ]
  },
  {
   "cell_type": "code",
   "execution_count": 16,
   "id": "f62499be",
   "metadata": {},
   "outputs": [],
   "source": [
    "\n",
    "le = preprocessing.LabelEncoder()\n",
    "le.fit(y)\n",
    "labels_encoded = le.transform(y)\n",
    "y_train = labels_encoded\n",
    "x_np = [i.detach().numpy()[0] for i in x]"
   ]
  },
  {
   "cell_type": "code",
   "execution_count": null,
   "id": "4fbaf6f0",
   "metadata": {},
   "outputs": [],
   "source": []
  },
  {
   "cell_type": "code",
   "execution_count": 17,
   "id": "1e87a469",
   "metadata": {},
   "outputs": [],
   "source": [
    "RF_model = RandomForestClassifier(n_estimators = 50, random_state = 42)"
   ]
  },
  {
   "cell_type": "code",
   "execution_count": 18,
   "id": "e62c1d03",
   "metadata": {},
   "outputs": [],
   "source": [
    "X_train, X_test, Y_train, Y_test = train_test_split(x_np, y_train, test_size=0.3)"
   ]
  },
  {
   "cell_type": "code",
   "execution_count": 19,
   "id": "afc7b33f",
   "metadata": {},
   "outputs": [
    {
     "data": {
      "text/plain": [
       "RandomForestClassifier(n_estimators=50, random_state=42)"
      ]
     },
     "execution_count": 19,
     "metadata": {},
     "output_type": "execute_result"
    }
   ],
   "source": [
    "# Train the model on training data\n",
    "RF_model.fit(X_train, Y_train)\n"
   ]
  },
  {
   "cell_type": "code",
   "execution_count": 20,
   "id": "dbfbd0d6",
   "metadata": {},
   "outputs": [],
   "source": [
    "pred = RF_model.predict(X_test)"
   ]
  },
  {
   "cell_type": "code",
   "execution_count": 21,
   "id": "1eb5ebd7",
   "metadata": {},
   "outputs": [
    {
     "name": "stdout",
     "output_type": "stream",
     "text": [
      "Accuracy =  1.0\n"
     ]
    }
   ],
   "source": [
    "print (\"Accuracy = \", metrics.accuracy_score(Y_test, pred))"
   ]
  }
 ],
 "metadata": {
  "kernelspec": {
   "display_name": "Python 3 (ipykernel)",
   "language": "python",
   "name": "python3"
  },
  "language_info": {
   "codemirror_mode": {
    "name": "ipython",
    "version": 3
   },
   "file_extension": ".py",
   "mimetype": "text/x-python",
   "name": "python",
   "nbconvert_exporter": "python",
   "pygments_lexer": "ipython3",
   "version": "3.8.10"
  }
 },
 "nbformat": 4,
 "nbformat_minor": 5
}
