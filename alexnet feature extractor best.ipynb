{
 "cells": [
  {
   "cell_type": "markdown",
   "id": "c5f123c0",
   "metadata": {},
   "source": [
    "# This is the where alexnet features of the 1000 each dataset created\n",
    "\n",
    "## the output is a dataset of tensors ... assumes 'the_dataset' exists.. the same folder the original dataset exists\n",
    "\n",
    "## it will be used other places\n",
    "\n"
   ]
  },
  {
   "cell_type": "code",
   "execution_count": 1,
   "id": "641639e3",
   "metadata": {},
   "outputs": [],
   "source": [
    "from torchvision import models\n",
    "import torch\n",
    "from PIL import Image\n",
    "from skimage import io, transform\n",
    "import matplotlib.pyplot as plt\n",
    "import numpy as np\n",
    "from torchvision import transforms\n",
    "import os"
   ]
  },
  {
   "cell_type": "markdown",
   "id": "cf050b34",
   "metadata": {},
   "source": [
    "# Load alexnet..from the internet..but for others I locally save models"
   ]
  },
  {
   "cell_type": "code",
   "execution_count": 2,
   "id": "89aa3654",
   "metadata": {},
   "outputs": [],
   "source": [
    "alexnet = models.alexnet(pretrained=True) # This will download the weights for the network first time it is run!"
   ]
  },
  {
   "cell_type": "code",
   "execution_count": 5,
   "id": "71c2d740",
   "metadata": {},
   "outputs": [],
   "source": [
    "extractor=torch.nn.Sequential(alexnet.features, torch.nn.Flatten())"
   ]
  },
  {
   "cell_type": "code",
   "execution_count": 3,
   "id": "c3325ef1",
   "metadata": {},
   "outputs": [],
   "source": [
    "dataset='the_dataset'"
   ]
  },
  {
   "cell_type": "code",
   "execution_count": 176,
   "id": "cf831480",
   "metadata": {},
   "outputs": [
    {
     "name": "stdout",
     "output_type": "stream",
     "text": [
      "Malex.gen!J\n",
      "done for  Malex.gen!J\n",
      "Dontovo.A\n",
      "done for  Dontovo.A\n",
      "Yuner.A\n",
      "done for  Yuner.A\n",
      "Lolyda.AA1\n",
      "done for  Lolyda.AA1\n",
      "Skintrim.N\n",
      "done for  Skintrim.N\n",
      "VB.AT\n",
      "done for  VB.AT\n",
      "Lolyda.AA3\n",
      "done for  Lolyda.AA3\n",
      "Swizzor.gen!I\n",
      "done for  Swizzor.gen!I\n",
      "Rbot!gen\n",
      "done for  Rbot!gen\n",
      "Agent.FYI\n",
      "done for  Agent.FYI\n",
      "Autorun.K\n",
      "done for  Autorun.K\n",
      "Swizzor.gen!E\n",
      "done for  Swizzor.gen!E\n",
      "Lolyda.AT\n",
      "done for  Lolyda.AT\n",
      "Lolyda.AA2\n",
      "done for  Lolyda.AA2\n",
      "Wintrim.BX\n",
      "done for  Wintrim.BX\n",
      "Instantaccess\n",
      "done for  Instantaccess\n",
      "Fakerean\n",
      "done for  Fakerean\n",
      "Allaple.A\n",
      "done for  Allaple.A\n",
      "Alueron.gen!J\n",
      "done for  Alueron.gen!J\n",
      "Dialplatform.B\n",
      "done for  Dialplatform.B\n",
      "Adialer.C\n",
      "done for  Adialer.C\n",
      "C2LOP.gen!g\n",
      "done for  C2LOP.gen!g\n",
      "C2LOP.P\n",
      "done for  C2LOP.P\n",
      "Obfuscator.AD\n",
      "done for  Obfuscator.AD\n",
      "Allaple.L\n",
      "done for  Allaple.L\n",
      " total done  25\n"
     ]
    }
   ],
   "source": [
    "counter=0\n",
    "rounds=0\n",
    "for (root,dirs,files) in  os.walk(dataset, topdown=True):\n",
    "    \n",
    "    if len(files)== 0:\n",
    "        continue\n",
    "    \n",
    "\n",
    "    if 'valid' in root:\n",
    "        continue\n",
    "        \n",
    "    dirname = root.split(os.path.sep)[-1]\n",
    "    print(dirname)\n",
    "    \n",
    "    features=[]\n",
    "    for i in files:                        \n",
    "        img=Image.open(root+'/'+i)\n",
    "        img=img.resize((224,224))        \n",
    "        \n",
    "        # channel\n",
    "        img=np.stack((img,)*3, axis=-1) # stack  to create channels\n",
    "        img_t=transforms.ToTensor()(img) # transform to tensor\n",
    "        img_U= torch.unsqueeze(img_t,0) \n",
    "        feature=extractor(img_U) \n",
    "        features.append(feature)\n",
    "    counter+=1    \n",
    "    torch.save(features, root+'/'+dirname+'.pt')\n",
    "    print(\"done for \", dirname)\n",
    "\n",
    "\n",
    "    \n",
    "print(\" total done \", counter) "
   ]
  },
  {
   "cell_type": "code",
   "execution_count": null,
   "id": "c86b5d6f",
   "metadata": {},
   "outputs": [],
   "source": []
  },
  {
   "cell_type": "code",
   "execution_count": null,
   "id": "7539b8f2",
   "metadata": {},
   "outputs": [],
   "source": []
  },
  {
   "cell_type": "code",
   "execution_count": null,
   "id": "7b58e17b",
   "metadata": {},
   "outputs": [],
   "source": []
  },
  {
   "cell_type": "code",
   "execution_count": null,
   "id": "94a2970f",
   "metadata": {},
   "outputs": [],
   "source": []
  },
  {
   "cell_type": "code",
   "execution_count": null,
   "id": "cbb806b7",
   "metadata": {},
   "outputs": [],
   "source": []
  },
  {
   "cell_type": "code",
   "execution_count": null,
   "id": "2076bbb6",
   "metadata": {},
   "outputs": [],
   "source": []
  }
 ],
 "metadata": {
  "kernelspec": {
   "display_name": "Python 3 (ipykernel)",
   "language": "python",
   "name": "python3"
  },
  "language_info": {
   "codemirror_mode": {
    "name": "ipython",
    "version": 3
   },
   "file_extension": ".py",
   "mimetype": "text/x-python",
   "name": "python",
   "nbconvert_exporter": "python",
   "pygments_lexer": "ipython3",
   "version": "3.8.10"
  }
 },
 "nbformat": 4,
 "nbformat_minor": 5
}
